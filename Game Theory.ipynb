{
 "cells": [
  {
   "cell_type": "markdown",
   "id": "be700a57-3f32-4637-8f1d-868e6e085b2f",
   "metadata": {},
   "source": [
    "# Case 1"
   ]
  },
  {
   "cell_type": "markdown",
   "id": "2a1829ad-910e-4927-9ea8-47e543525fa2",
   "metadata": {},
   "source": [
    "#### Calculate Total Change of Flow---Det"
   ]
  },
  {
   "cell_type": "code",
   "execution_count": 1,
   "id": "b594d541-b8d3-49ff-9f22-5efcec5b86d7",
   "metadata": {},
   "outputs": [
    {
     "data": {
      "text/plain": [
       "-1.0"
      ]
     },
     "execution_count": 1,
     "metadata": {},
     "output_type": "execute_result"
    }
   ],
   "source": [
    "import numpy as np\n",
    "matrix = np.array([[1, 0, 0, 1],\n",
    "                   [0, 1, 0, 1],\n",
    "                   [1, 1, 0, 1],\n",
    "                   [1, 1, 1, 0]])\n",
    "\n",
    "matrix2 = np.array([[1, 0, 1, 1],\n",
    "                   [0, 1, 1, 1],\n",
    "                   [1, 1, 2, 1],\n",
    "                   [1, 1, 1, 0]])\n",
    "determinant = np.linalg.det(matrix)\n",
    "determinant2 = np.linalg.det(matrix2)\n",
    "determinant2\n"
   ]
  },
  {
   "cell_type": "markdown",
   "id": "1583d012-a114-4925-ad59-e7804781f985",
   "metadata": {},
   "source": [
    "### Equilibrium Cost for Flow = 1"
   ]
  },
  {
   "cell_type": "code",
   "execution_count": 2,
   "id": "207cb7fa-c64d-422e-ac6a-4421b46d821c",
   "metadata": {},
   "outputs": [
    {
     "data": {
      "text/plain": [
       "[(0.0, {C_p: 2, a: 0, b: 0, t: 1}),\n",
       " (0.1,\n",
       "  {C_p: 2.00000000000000,\n",
       "   a: 0.100000000000000,\n",
       "   b: 0.100000000000000,\n",
       "   t: 0.800000000000000}),\n",
       " (0.2,\n",
       "  {C_p: 2.00000000000000,\n",
       "   a: 0.200000000000000,\n",
       "   b: 0.200000000000000,\n",
       "   t: 0.600000000000000}),\n",
       " (0.30000000000000004,\n",
       "  {C_p: 2.00000000000000,\n",
       "   a: 0.300000000000000,\n",
       "   b: 0.300000000000000,\n",
       "   t: 0.400000000000000}),\n",
       " (0.4,\n",
       "  {C_p: 2.00000000000000,\n",
       "   a: 0.400000000000000,\n",
       "   b: 0.400000000000000,\n",
       "   t: 0.200000000000000}),\n",
       " (0.5,\n",
       "  {C_p: 2.00000000000000, a: 0.500000000000000, b: 0.500000000000000, t: 0.0}),\n",
       " (0.6000000000000001,\n",
       "  {C_p: 2.00000000000000,\n",
       "   a: 0.600000000000000,\n",
       "   b: 0.600000000000000,\n",
       "   t: -0.200000000000000}),\n",
       " (0.7000000000000001,\n",
       "  {C_p: 2.00000000000000,\n",
       "   a: 0.700000000000000,\n",
       "   b: 0.700000000000000,\n",
       "   t: -0.400000000000000}),\n",
       " (0.8,\n",
       "  {C_p: 2.00000000000000,\n",
       "   a: 0.800000000000000,\n",
       "   b: 0.800000000000000,\n",
       "   t: -0.600000000000000}),\n",
       " (0.9,\n",
       "  {C_p: 2.00000000000000,\n",
       "   a: 0.900000000000000,\n",
       "   b: 0.900000000000000,\n",
       "   t: -0.800000000000000}),\n",
       " (1.0,\n",
       "  {C_p: 2.00000000000000,\n",
       "   a: 1.00000000000000,\n",
       "   b: 1.00000000000000,\n",
       "   t: -1.00000000000000})]"
      ]
     },
     "execution_count": 2,
     "metadata": {},
     "output_type": "execute_result"
    }
   ],
   "source": [
    "from sympy import symbols, Eq, solve\n",
    "\n",
    "# Define the symbols\n",
    "a, b, t, C_p = symbols('a b t C_p')\n",
    "\n",
    "# Set up the loop for different values of c\n",
    "c_values = np.arange(0, 1.1, 0.1)  \n",
    "solutions_old_flow = []\n",
    "\n",
    "for c in c_values:\n",
    "    # Total demand flow for three paths\n",
    "    Demand = 1 \n",
    "    # Change of flow given by the paper's method\n",
    "    Delta = 1 - 2 * c \n",
    "\n",
    "    # Define the cost equations\n",
    "    C_p_A = a + t + 1 + c\n",
    "    C_p_B = b + t + 1 + c\n",
    "    C_p_T = a + b + 2 * t + 2 * c\n",
    "\n",
    "    # Equation for the sum of a, b, and t\n",
    "    sum_eq = Eq(a + b + t, Demand)\n",
    "\n",
    "    # Create equations based on the equality\n",
    "    eq1 = Eq(C_p_A, C_p)\n",
    "    eq2 = Eq(C_p_B, C_p)\n",
    "    eq3 = Eq(C_p_T, C_p)\n",
    "\n",
    "    # Solve the system of equations\n",
    "    solution = solve((eq1, eq2, eq3, sum_eq), (a, b, t, C_p))\n",
    "    solutions_old_flow.append((c, solution))\n",
    "\n",
    "solutions_old_flow\n"
   ]
  },
  {
   "cell_type": "markdown",
   "id": "5731b961-d449-44f3-96f9-e5dd788f2baf",
   "metadata": {},
   "source": [
    "### Equilibrium Cost for Flow = 1 + Theta (which is the change of flow calculated by matrix)\n",
    "##### This guarantees flow on the new path = 0"
   ]
  },
  {
   "cell_type": "code",
   "execution_count": 22,
   "id": "a12825d1-7f7e-4658-9078-2e01d27c45a9",
   "metadata": {},
   "outputs": [
    {
     "data": {
      "text/plain": [
       "[(0.0,\n",
       "  {C_p: 2.00000000000000, a: 1.00000000000000, b: 1.00000000000000, t: 0.0}),\n",
       " (0.1,\n",
       "  {C_p: 2.00000000000000, a: 0.900000000000000, b: 0.900000000000000, t: 0.0}),\n",
       " (0.2,\n",
       "  {C_p: 2.00000000000000, a: 0.800000000000000, b: 0.800000000000000, t: 0.0}),\n",
       " (0.30000000000000004,\n",
       "  {C_p: 2.00000000000000, a: 0.700000000000000, b: 0.700000000000000, t: 0.0}),\n",
       " (0.4,\n",
       "  {C_p: 2.00000000000000, a: 0.600000000000000, b: 0.600000000000000, t: 0.0}),\n",
       " (0.5,\n",
       "  {C_p: 2.00000000000000, a: 0.500000000000000, b: 0.500000000000000, t: 0.0}),\n",
       " (0.6000000000000001,\n",
       "  {C_p: 2.00000000000000, a: 0.400000000000000, b: 0.400000000000000, t: 0.0}),\n",
       " (0.7000000000000001,\n",
       "  {C_p: 2.00000000000000, a: 0.300000000000000, b: 0.300000000000000, t: 0.0}),\n",
       " (0.8,\n",
       "  {C_p: 2.00000000000000, a: 0.200000000000000, b: 0.200000000000000, t: 0.0}),\n",
       " (0.9,\n",
       "  {C_p: 2.00000000000000, a: 0.100000000000000, b: 0.100000000000000, t: 0.0}),\n",
       " (1.0, {C_p: 2.00000000000000, a: 0.0, b: 0.0, t: 0.0})]"
      ]
     },
     "execution_count": 22,
     "metadata": {},
     "output_type": "execute_result"
    }
   ],
   "source": [
    "from sympy import symbols, Eq, solve\n",
    "\n",
    "# Define the symbols\n",
    "a, b, t, C_p = symbols('a b t C_p')\n",
    "\n",
    "# Set up the loop for different values of c\n",
    "c_values = np.arange(0, 1.1, 0.1)  \n",
    "solutions_new_flow = []\n",
    "\n",
    "for c in c_values:\n",
    "    # Total demand flow for three paths\n",
    "    Demand = 1 \n",
    "    # Change of flow given by the paper's method\n",
    "    Delta = 1 - 2 * c \n",
    "\n",
    "    # Define the cost equations\n",
    "    C_p_A = a + t + 1 + c\n",
    "    C_p_B = b + t + 1 + c\n",
    "    C_p_T = a + b + 2 * t + 2 * c\n",
    "\n",
    "    # Equation for the sum of a, b, and t\n",
    "    sum_eq = Eq(a + b + t, Demand + Delta)\n",
    "\n",
    "    # Create equations based on the equality\n",
    "    eq1 = Eq(C_p_A, C_p)\n",
    "    eq2 = Eq(C_p_B, C_p)\n",
    "    eq3 = Eq(C_p_T, C_p)\n",
    "\n",
    "    # Solve the system of equations\n",
    "    solution = solve((eq1, eq2, eq3, sum_eq), (a, b, t, C_p))\n",
    "    solutions_new_flow.append((c, solution))\n",
    "\n",
    "solutions_new_flow\n"
   ]
  },
  {
   "cell_type": "markdown",
   "id": "e91587b5-55da-4a5f-8083-930c69457b65",
   "metadata": {},
   "source": [
    "#### Add \"d\" to X_a and X_b to increase the total flow by theta, and calculate reversely for the \"d\" value, which is the misleading information reported by transportation device. "
   ]
  },
  {
   "cell_type": "code",
   "execution_count": 11,
   "id": "c65334f5-919f-4e43-a472-6c04317d51d1",
   "metadata": {},
   "outputs": [
    {
     "data": {
      "text/plain": [
       "[(0.0, {d: 1.00000000000000}),\n",
       " (0.1, {d: 0.900000000000000}),\n",
       " (0.2, {d: 0.800000000000000}),\n",
       " (0.30000000000000004, {d: 0.700000000000000}),\n",
       " (0.4, {d: 0.600000000000000}),\n",
       " (0.5, {d: 0.500000000000000}),\n",
       " (0.6000000000000001, {d: 0.400000000000000}),\n",
       " (0.7000000000000001, {d: 0.300000000000000}),\n",
       " (0.8, {d: 0.200000000000000}),\n",
       " (0.9, {d: 0.100000000000000}),\n",
       " (1.0, {d: 0.0})]"
      ]
     },
     "execution_count": 11,
     "metadata": {},
     "output_type": "execute_result"
    }
   ],
   "source": [
    "a, b, t,d,C_p = symbols('a b t d C_p')\n",
    "c = np.arange(0, 1.1, 0.1)  \n",
    "solutions_theta = []\n",
    "for c in c_values: \n",
    "# for s in solutions_old_flow:\n",
    "    # for c in c_values: \n",
    "            # Total demand flow for two paths\n",
    "    Demand = 1 \n",
    "    # Change of flow given by the paper's method\n",
    "    Delta = 1 - 2 * c \n",
    "    # print (s[1])\n",
    "    a_ = s[1][a]\n",
    "    b_ = s[1][b]\n",
    "    t_ = 0\n",
    "        \n",
    "    C_p_A = a_+d + t_ + 1 + c\n",
    "    C_p_B = b_+d + t_ + 1 + c\n",
    "    C_p_T = a_+d + b_+d + 2 * t_ + 2 * c\n",
    "        \n",
    "    sum_eq = Eq(a_+d + b_+d + t_, Demand+Delta)\n",
    "        \n",
    "    eq1 = Eq(C_p_A, C_p_T)\n",
    "    eq2 = Eq(C_p_B, C_p_T)\n",
    "        # eq3 = Eq(C_p_T, C_p)\n",
    "    solution = solve((eq1, eq2, sum_eq), (d))\n",
    "        # solution = solve((eq1, eq2, eq3, sum_eq), (a, b, t, C_p))\n",
    "    solutions_theta.append((c, solution))\n",
    "        # print(solutions) ## theta value should be reported by Google Map\n",
    "solutions_theta"
   ]
  },
  {
   "cell_type": "code",
   "execution_count": 12,
   "id": "31b69cfb-9ccc-46d6-a56b-e27cee99ab29",
   "metadata": {},
   "outputs": [],
   "source": [
    "# a, b = symbols('a b')\n",
    "\n",
    "# c = np.arange(0, 1.1, 0.1)  \n",
    "# solutions_AB_newFlow = []\n",
    "\n",
    "# for c in c_values:\n",
    "#     # Total demand flow for two paths\n",
    "#     Demand = 1 \n",
    "#     # Change of flow given by the paper's method\n",
    "#     Delta = 1 - 2 * c \n",
    "#     C_p_A = a + c + 1\n",
    "#     C_p_B = b + c + 1\n",
    "    \n",
    "#     sum_eq = Eq(a + b, Demand +Delta)\n",
    "    \n",
    "#     C_p = symbols('C_p')\n",
    "    \n",
    "#     eq1 = Eq(C_p_A, C_p)\n",
    "#     eq2 = Eq(C_p_B, C_p)\n",
    "    \n",
    "#     solution = solve((eq1, eq2, sum_eq), (a, b, C_p))\n",
    "#     solutions_AB_newFlow.append((c, solution))\n",
    "\n",
    "\n",
    "# solutions_AB_newFlow"
   ]
  },
  {
   "cell_type": "markdown",
   "id": "c0c90cbd-04e5-4f43-979e-93e548a5af6a",
   "metadata": {},
   "source": [
    "# Example in the Paper (Used Difference Cost Function, Same Network)"
   ]
  },
  {
   "cell_type": "markdown",
   "id": "586e7617-93e0-451c-b627-28c2f48f1d76",
   "metadata": {},
   "source": [
    "## Three paths cost equilibrium: changing total demand flows"
   ]
  },
  {
   "cell_type": "code",
   "execution_count": 13,
   "id": "9e1c7c59-7458-4c3d-b2c8-6abfe3ac94f6",
   "metadata": {},
   "outputs": [
    {
     "name": "stdout",
     "output_type": "stream",
     "text": [
      "{C_p: 890/9, a: 40/9, b: 40/9, c: 0}\n"
     ]
    }
   ],
   "source": [
    "from sympy import symbols, Eq, solve,Rational\n",
    "\n",
    "#Define the variables\n",
    "#a: flow on the path 1\n",
    "#c: flow on the new path 3 (with middle edge)\n",
    "a, b, c = symbols('a b c')\n",
    "Demand = 6 #Total demand flow for three paths\n",
    "Delta = Rational(2) + Rational(8, 9) #change of flow given by the paper's method\n",
    "\n",
    "#Define the cost equations\n",
    "C_p_A = 11*a + 10*c + 50\n",
    "C_p_B = 11*b + 10*c + 50\n",
    "C_p_C = 10*a + 10*b + 21*c + 10\n",
    "\n",
    "#Equation for the sum of a, b, and c\n",
    "sum_eq = Eq(a + b + c, Demand+Delta)\n",
    "\n",
    "C_p = symbols('C_p')\n",
    "\n",
    "#Create equations based on the equality\n",
    "eq1 = Eq(C_p_A, C_p)\n",
    "eq2 = Eq(C_p_B, C_p)\n",
    "eq3 = Eq(C_p_C, C_p)\n",
    "\n",
    "# Now solve the system of equations\n",
    "solutions = solve((eq1, eq2, eq3, sum_eq), (a, b, c, C_p))\n",
    "\n",
    "print(solutions)"
   ]
  },
  {
   "cell_type": "markdown",
   "id": "34b9265e-b3a5-4e75-a6d9-d574219a49e7",
   "metadata": {},
   "source": [
    "## Verified non-increasing cost equilibrium by calculating the case of two paths"
   ]
  },
  {
   "cell_type": "code",
   "execution_count": 14,
   "id": "ede9866e-8cc6-45a7-aa1e-41ef0ebc73d0",
   "metadata": {},
   "outputs": [
    {
     "name": "stdout",
     "output_type": "stream",
     "text": [
      "{C_p: 890/9, a: 40/9, b: 40/9}\n"
     ]
    }
   ],
   "source": [
    "a, b = symbols('a b')\n",
    "\n",
    "C_p_A = 11*a + 50\n",
    "C_p_B = 11*b + 50\n",
    "\n",
    "sum_eq = Eq(a + b, Demand +Delta)\n",
    "\n",
    "C_p = symbols('C_p')\n",
    "\n",
    "eq1 = Eq(C_p_A, C_p)\n",
    "eq2 = Eq(C_p_B, C_p)\n",
    "\n",
    "solutions = solve((eq1, eq2, sum_eq), (a, b, C_p))\n",
    "\n",
    "print(solutions)"
   ]
  },
  {
   "cell_type": "markdown",
   "id": "0e983a6e-03c8-4737-9117-930083b37913",
   "metadata": {},
   "source": [
    "## Try to design information function such that transportation device can provide misleading information (w.r.t. Flows on path 1 and 2)"
   ]
  },
  {
   "cell_type": "code",
   "execution_count": 16,
   "id": "11ed3e9c-2892-4777-bb18-891a532bf155",
   "metadata": {},
   "outputs": [
    {
     "name": "stdout",
     "output_type": "stream",
     "text": [
      "{t: 22/9}\n"
     ]
    }
   ],
   "source": [
    "a, b, c,t = symbols('a b c t')\n",
    "\n",
    "a = 2\n",
    "b = 2\n",
    "c = 0\n",
    "\n",
    "C_p_A = 11*(a+t) + 10*c + 50\n",
    "C_p_B = 11*(b+t) + 10*c + 50\n",
    "C_p_C = 10*(a+t) + 10*(b+t) + 21*c + 10\n",
    "\n",
    "sum_eq = Eq(a +t + b +t+ c, Demand+Delta)\n",
    "\n",
    "eq1 = Eq(C_p_A, C_p_C)\n",
    "eq2 = Eq(C_p_B, C_p_C)\n",
    "\n",
    "solutions = solve((eq1, eq2, sum_eq), (t))\n",
    "print(solutions) ## theta value should be reported by Google Map"
   ]
  },
  {
   "cell_type": "code",
   "execution_count": 17,
   "id": "1002c7bc-c2c0-4347-93b6-e59fe6b806e8",
   "metadata": {},
   "outputs": [
    {
     "name": "stdout",
     "output_type": "stream",
     "text": [
      "890/9 890/9 890/9\n"
     ]
    }
   ],
   "source": [
    "t_value = solutions[t]\n",
    "Xa = a+t_value\n",
    "Xb = b+t_value\n",
    "Xc = c\n",
    "C_p_A = 11*(Xa) + 10*Xc + 50\n",
    "C_p_B = 11*(Xb) + 10*Xc + 50\n",
    "C_p_C = 10*(Xa) + 10*(Xb) + 21*Xc + 10\n",
    "print(C_p_A, C_p_B, C_p_C)"
   ]
  },
  {
   "cell_type": "code",
   "execution_count": null,
   "id": "1d55be83-ac78-4322-914a-0cc86f593bc0",
   "metadata": {},
   "outputs": [],
   "source": []
  }
 ],
 "metadata": {
  "kernelspec": {
   "display_name": "Python 3 (ipykernel)",
   "language": "python",
   "name": "python3"
  },
  "language_info": {
   "codemirror_mode": {
    "name": "ipython",
    "version": 3
   },
   "file_extension": ".py",
   "mimetype": "text/x-python",
   "name": "python",
   "nbconvert_exporter": "python",
   "pygments_lexer": "ipython3",
   "version": "3.11.4"
  }
 },
 "nbformat": 4,
 "nbformat_minor": 5
}
